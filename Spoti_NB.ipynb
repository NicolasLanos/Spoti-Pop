{
 "cells": [
  {
   "cell_type": "markdown",
   "id": "9b4fc45b-5642-4ce5-90a5-341f0f648ed4",
   "metadata": {},
   "source": [
    "# Libraries"
   ]
  },
  {
   "cell_type": "code",
   "execution_count": 1,
   "id": "1e6e76f5-5c35-4896-a20f-3244472323d2",
   "metadata": {},
   "outputs": [
    {
     "data": {
      "text/plain": [
       "True"
      ]
     },
     "execution_count": 1,
     "metadata": {},
     "output_type": "execute_result"
    }
   ],
   "source": [
    "import pandas as pd\n",
    "import spotipy\n",
    "from spotipy.oauth2 import SpotifyClientCredentials\n",
    "from dotenv import load_dotenv\n",
    "import os\n",
    "import time\n",
    "dotenv_path = r'C:\\Users\\santi\\OneDrive\\Desktop\\Spotify_Popularity\\.env.txt'\n",
    "load_dotenv(dotenv_path)"
   ]
  },
  {
   "cell_type": "markdown",
   "id": "b16cf745-4336-415c-9e66-d89d1d56158f",
   "metadata": {},
   "source": [
    "# Api Connection"
   ]
  },
  {
   "cell_type": "code",
   "execution_count": 2,
   "id": "4132bc9c-31cc-4d43-a7a7-1ce37830d17e",
   "metadata": {},
   "outputs": [],
   "source": [
    "# Configura tus credenciales de cliente\n",
    "client_id = os.getenv(\"SPOTIFY_CLIENT_ID\")\n",
    "client_secret = os.getenv(\"SPOTIFY_CLIENT_SECRET\")\n",
    "# Autenticación con Spotify\n",
    "sp = spotipy.Spotify(auth_manager=SpotifyClientCredentials(client_id=client_id, client_secret=client_secret))"
   ]
  },
  {
   "cell_type": "markdown",
   "id": "368ce3d2-29f2-4c40-8274-e83606de7e0f",
   "metadata": {},
   "source": [
    "# Funciones"
   ]
  },
  {
   "cell_type": "code",
   "execution_count": 3,
   "id": "f2bfd7f1-4fc4-443e-a7dc-08c88f9f35ce",
   "metadata": {},
   "outputs": [],
   "source": [
    "def get_playlist_tracks(username,playlist_id):\n",
    "    results = sp.user_playlist_tracks(username,playlist_id)\n",
    "    tracks = results['items']\n",
    "    while results['next']:\n",
    "        results = sp.next(results)\n",
    "        tracks.extend(results['items'])\n",
    "    return tracks"
   ]
  },
  {
   "cell_type": "markdown",
   "id": "63b41828-5e70-4f19-970c-e1b0f65eab17",
   "metadata": {},
   "source": [
    "# Dataframe de Info General del Track"
   ]
  },
  {
   "cell_type": "code",
   "execution_count": 4,
   "id": "6ee4a310-a78e-4537-ab88-fa0f012be164",
   "metadata": {},
   "outputs": [],
   "source": [
    "%%time\n",
    "playlists = ['1M31YfWCBmOSlGGyF0wvsw', '37i9dQZF1DX4KeocBrdbJg', '37i9dQZEVXbMDoHDwVN2tF', '37i9dQZF1DXbvPjXfc8G9S',\n",
    "              '4KlHX1H41ZIyQ5oodAp2kj', '7xwYHh7KbKDtlMblSkvtfu']\n",
    "\n",
    "results = []\n",
    "\n",
    "for p in playlists:\n",
    "    results.extend(get_playlist_tracks('santiago20054', p))"
   ]
  },
  {
   "cell_type": "code",
   "execution_count": 5,
   "id": "3fb164a9-b772-4c8d-bf47-1bd9df70763f",
   "metadata": {},
   "outputs": [],
   "source": [
    "track_ids = []\n",
    "track_names = []\n",
    "artists_names = []\n",
    "popularities = []\n",
    "duration_ms = []\n",
    "years = []\n",
    "\n",
    "for i in range(len(results)):\n",
    "    track = results[i]['track']\n",
    "    release_date = track['album']['release_date'] if track['album'] is not None else None\n",
    "    if release_date is not None:\n",
    "        track_ids.append(track['id'])\n",
    "        track_names.append(track['name'])\n",
    "        artists_names.append(track['artists'][0]['name'])\n",
    "        popularities.append(track['popularity'])\n",
    "        duration_ms.append(track['duration_ms'])\n",
    "        years.append(int(release_date[:4]))\n",
    "    else:\n",
    "        track_ids.append(track['id'])\n",
    "        track_names.append(track['name'])\n",
    "        artists_names.append(track['artists'][0]['name'])\n",
    "        popularities.append(track['popularity'])\n",
    "        duration_ms.append(track['duration_ms'])\n",
    "        years.append(None)"
   ]
  },
  {
   "cell_type": "code",
   "execution_count": 6,
   "id": "3c099765-2140-4048-92ea-ae57864f7868",
   "metadata": {},
   "outputs": [],
   "source": [
    "data = {\n",
    "    'id': track_ids,\n",
    "    'name': track_names,\n",
    "    'artist': artists_names,\n",
    "    'popularity': popularities,\n",
    "    'duration_ms': duration_ms,\n",
    "    'year': years\n",
    "}\n",
    "\n",
    "df = pd.DataFrame(data)"
   ]
  },
  {
   "cell_type": "code",
   "execution_count": 13,
   "id": "0a91df5b-3acd-4ee7-a9ce-6a246b9180be",
   "metadata": {},
   "outputs": [
    {
     "name": "stdout",
     "output_type": "stream",
     "text": [
      "<class 'pandas.core.frame.DataFrame'>\n",
      "RangeIndex: 3160 entries, 0 to 3159\n",
      "Data columns (total 6 columns):\n",
      " #   Column       Non-Null Count  Dtype  \n",
      "---  ------       --------------  -----  \n",
      " 0   id           3159 non-null   object \n",
      " 1   name         3160 non-null   object \n",
      " 2   artist       3160 non-null   object \n",
      " 3   popularity   3160 non-null   int64  \n",
      " 4   duration_ms  3160 non-null   int64  \n",
      " 5   year         3159 non-null   float64\n",
      "dtypes: float64(1), int64(2), object(3)\n",
      "memory usage: 148.3+ KB\n"
     ]
    }
   ],
   "source": [
    "df.info()"
   ]
  },
  {
   "cell_type": "code",
   "execution_count": null,
   "id": "94daffc0-fc98-473d-8e1a-22bec2f63084",
   "metadata": {},
   "outputs": [],
   "source": []
  }
 ],
 "metadata": {
  "kernelspec": {
   "display_name": "Python 3 (ipykernel)",
   "language": "python",
   "name": "python3"
  },
  "language_info": {
   "codemirror_mode": {
    "name": "ipython",
    "version": 3
   },
   "file_extension": ".py",
   "mimetype": "text/x-python",
   "name": "python",
   "nbconvert_exporter": "python",
   "pygments_lexer": "ipython3",
   "version": "3.12.2"
  }
 },
 "nbformat": 4,
 "nbformat_minor": 5
}
